{
 "cells": [
  {
   "cell_type": "code",
   "execution_count": 1,
   "metadata": {},
   "outputs": [
    {
     "name": "stdout",
     "output_type": "stream",
     "text": [
      "Total Images with Labels:  454\n"
     ]
    }
   ],
   "source": [
    "import os\n",
    "import random\n",
    "import shutil\n",
    "\n",
    "#defining input paths to the images and labels folder\n",
    "image_dir = \"D:/Documents/Plaksha TLP/Road_Signs/Dataset/images\"\n",
    "label_dir = \"D:/Documents/Plaksha TLP/Road_Signs/Dataset/labels\"\n",
    "\n",
    "train_dir = \"D:/Documents/Plaksha TLP/Road_Signs/data/train\"\n",
    "test_dir = \"D:/Documents/Plaksha TLP/Road_Signs/data/test\"\n",
    "val_dir = \"D:/Documents/Plaksha TLP/Road_Signs/data/val\"\n",
    "\n",
    "#storing all images name as list\n",
    "images = [file for file in os.listdir(image_dir) if file.lower().endswith((\".jpeg\", \".jpg\"))]\n",
    "\n",
    "\n",
    "#Creating images and labels folders within test, train and val folders\n",
    "os.makedirs(os.path.join(train_dir, 'images'), exist_ok=True)\n",
    "os.makedirs(os.path.join(train_dir, 'labels'), exist_ok=True)\n",
    "\n",
    "os.makedirs(os.path.join(test_dir, 'images'), exist_ok=True)\n",
    "os.makedirs(os.path.join(test_dir, 'labels'), exist_ok=True)\n",
    "\n",
    "os.makedirs(os.path.join(val_dir, 'images'), exist_ok=True)\n",
    "os.makedirs(os.path.join(val_dir, 'labels'), exist_ok=True)\n",
    "\n",
    "#iterating through labels and removing images from the dataset with no label files\n",
    "for image in images:\n",
    "    if '.jpg' in image:\n",
    "        label_file = image.replace(\".jpg\", \".txt\")\n",
    "    elif '.JPG' in image:\n",
    "        label_file = image.replace(\".JPG\", \".txt\")\n",
    "    else:\n",
    "        label_file = image.replace(\".jpeg\",\".txt\")\n",
    "    \n",
    "    image_path = os.path.join(image_dir, image)\n",
    "    label_path = os.path.join(label_dir, label_file)\n",
    "\n",
    "    if os.path.exists(label_path):\n",
    "        continue\n",
    "    else:\n",
    "        os.remove(image_path)\n",
    "\n",
    "images = [file for file in os.listdir(image_dir) if file.lower().endswith((\".jpeg\", \".jpg\"))]\n",
    "\n",
    "#Shuffling the list of images to randomly split the data into train test and val\n",
    "random.shuffle(images)\n",
    "\n",
    "print('Total Images with Labels: ',len(images))\n"
   ]
  },
  {
   "cell_type": "code",
   "execution_count": 2,
   "metadata": {},
   "outputs": [],
   "source": [
    "#train test split\n",
    "\n",
    "test_split_ratio = 0.1\n",
    "val_split_ratio = 0.2\n",
    "train_split_ratio = 0.7\n",
    "\n",
    "num_train = int(len(images) * train_split_ratio)\n",
    "num_test = int(len(images) * test_split_ratio)\n",
    "\n",
    "#since images are randomly shuffled, copying images and labels upto num_train to the train directory\n",
    "for image in images[:num_train+1]:\n",
    "    if '.jpg' in image:\n",
    "        label_file = image.replace(\".jpg\", \".txt\")\n",
    "    elif '.JPG' in image:\n",
    "        label_file = image.replace(\".JPG\", \".txt\")\n",
    "    else:\n",
    "        label_file = image.replace(\".jpeg\",\".txt\")\n",
    "    \n",
    "    image_path = os.path.join(image_dir, image)\n",
    "    label_path = os.path.join(label_dir, label_file)\n",
    "\n",
    "    shutil.copy(image_path, os.path.join(train_dir,'images'))\n",
    "    shutil.copy(label_path, os.path.join(train_dir,'labels'))\n",
    "\n",
    "\n",
    "#copying images and correspondning labels to the test directory\n",
    "for image in images[num_train+1:num_train+num_test+1]:\n",
    "    if '.jpg' in image:\n",
    "        label_file = image.replace(\".jpg\", \".txt\")\n",
    "    elif '.JPG' in image:\n",
    "        label_file = image.replace(\".JPG\", \".txt\")\n",
    "    else:\n",
    "        label_file = image.replace(\".jpeg\",\".txt\")\n",
    "    \n",
    "    image_path = os.path.join(image_dir, image)\n",
    "    label_path = os.path.join(label_dir, label_file)\n",
    "\n",
    "    shutil.copy(image_path, os.path.join(test_dir,'images'))\n",
    "    shutil.copy(label_path, os.path.join(test_dir,'labels'))\n",
    "\n",
    "#copying images and corresponding labels to the val directory\n",
    "for image in images[num_test+num_train+1:]:\n",
    "    if '.jpg' in image:\n",
    "        label_file = image.replace(\".jpg\", \".txt\")\n",
    "    elif '.JPG' in image:\n",
    "        label_file = image.replace(\".JPG\", \".txt\")\n",
    "    else:\n",
    "        label_file = image.replace(\".jpeg\",\".txt\")\n",
    "    \n",
    "    image_path = os.path.join(image_dir, image)\n",
    "    label_path = os.path.join(label_dir, label_file)\n",
    "\n",
    "    shutil.copy(image_path, os.path.join(val_dir,'images'))\n",
    "    shutil.copy(label_path, os.path.join(val_dir,'labels'))\n"
   ]
  },
  {
   "cell_type": "code",
   "execution_count": 3,
   "metadata": {},
   "outputs": [
    {
     "name": "stdout",
     "output_type": "stream",
     "text": [
      "Done.\n"
     ]
    }
   ],
   "source": [
    "from hist_eq import preprocessing_dataset\n",
    "\n",
    "train_dir = \"D:/Documents/Plaksha TLP/Road_Signs/data/train\"\n",
    "train_image_dir = os.path.join(train_dir, 'images')\n",
    "train_label_dir = os.path.join(train_dir, 'labels')\n",
    "output_image_dir = train_image_dir\n",
    "output_label_dir = train_label_dir\n",
    "\n",
    "preprocessing_dataset(train_image_dir, train_label_dir, output_image_dir, output_label_dir)\n"
   ]
  },
  {
   "cell_type": "code",
   "execution_count": null,
   "metadata": {},
   "outputs": [],
   "source": []
  }
 ],
 "metadata": {
  "kernelspec": {
   "display_name": "base",
   "language": "python",
   "name": "python3"
  },
  "language_info": {
   "codemirror_mode": {
    "name": "ipython",
    "version": 3
   },
   "file_extension": ".py",
   "mimetype": "text/x-python",
   "name": "python",
   "nbconvert_exporter": "python",
   "pygments_lexer": "ipython3",
   "version": "3.11.5"
  }
 },
 "nbformat": 4,
 "nbformat_minor": 2
}
